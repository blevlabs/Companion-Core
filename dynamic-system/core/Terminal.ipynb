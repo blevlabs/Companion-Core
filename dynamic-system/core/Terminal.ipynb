{
 "cells": [
  {
   "cell_type": "markdown",
   "source": [
    "## Weaviate Server"
   ],
   "metadata": {
    "collapsed": false
   }
  },
  {
   "cell_type": "code",
   "execution_count": 8,
   "outputs": [
    {
     "data": {
      "text/plain": "True"
     },
     "execution_count": 8,
     "metadata": {},
     "output_type": "execute_result"
    }
   ],
   "source": [
    "import weaviate\n",
    "import requests\n",
    "weave_server = \"http://192.168.1.110:8080\"\n",
    "weaviate_client = weaviate.Client(weave_server)\n",
    "weaviate_client.is_ready()\n",
    "weaviate_client.is_live()"
   ],
   "metadata": {
    "collapsed": false
   }
  },
  {
   "cell_type": "markdown",
   "source": [
    "## Carptriever Server"
   ],
   "metadata": {
    "collapsed": false
   }
  },
  {
   "cell_type": "code",
   "execution_count": 9,
   "outputs": [
    {
     "data": {
      "text/plain": "{'response': {'results': [['The capital of France is Paris.',\n    1.337802767753601],\n   ['one plus one is two', 0.591904878616333]]}}"
     },
     "execution_count": 9,
     "metadata": {},
     "output_type": "execute_result"
    }
   ],
   "source": [
    "carp = \"http://192.168.1.110:5000/ccarp\"\n",
    "requests.post(carp,json={\"query\":\"What is the capital of France?\",\"documents\":[\"The capital of France is Paris.\",\"one plus one is two\"]}).json()"
   ],
   "metadata": {
    "collapsed": false
   }
  },
  {
   "cell_type": "markdown",
   "source": [
    "## CodeT5 Server"
   ],
   "metadata": {
    "collapsed": false
   }
  },
  {
   "cell_type": "code",
   "execution_count": 10,
   "outputs": [
    {
     "name": "stdout",
     "output_type": "stream",
     "text": [
      "a = int(input(\"Enter first number: \"))\n",
      "b = int(input(\"Enter second number: \"))\n",
      "print(a + b)\n",
      "----\n",
      "Output:\n",
      "31\n"
     ]
    }
   ],
   "source": [
    "codet5 = \"http://192.168.1.110:5090/codet5\"\n",
    "code = requests.post(codet5,json={\"code\":\"#make a script that adds two numbers\"}).json()[\"codet5-response\"][0][\"generated_text\"].replace(\"\\n\\n\",\"\\n\").strip(\"\\n\")\n",
    "print(code)\n",
    "print(\"----\")\n",
    "print(\"Output:\")\n",
    "exec(code)"
   ],
   "metadata": {
    "collapsed": false
   }
  },
  {
   "cell_type": "markdown",
   "source": [
    "# Companion Core Systems Testing"
   ],
   "metadata": {
    "collapsed": false
   }
  },
  {
   "cell_type": "code",
   "execution_count": 5,
   "outputs": [],
   "source": [
    "from dynamic_library import dynamic\n",
    "dyn = dynamic()"
   ],
   "metadata": {
    "collapsed": false
   }
  },
  {
   "cell_type": "code",
   "execution_count": 6,
   "outputs": [
    {
     "data": {
      "text/plain": "{'audio': {'error': \"HTTPConnectionPool(host='127.0.0.1', port=5000): Max retries exceeded with url: /health (Caused by NewConnectionError('<urllib3.connection.HTTPConnection object at 0x7f57101ff6a0>: Failed to establish a new connection: [Errno 111] Connection refused'))\"},\n 'video': {'error': \"HTTPConnectionPool(host='127.0.0.1', port=5050): Max retries exceeded with url: /health (Caused by NewConnectionError('<urllib3.connection.HTTPConnection object at 0x7f57101ffc10>: Failed to establish a new connection: [Errno 111] Connection refused'))\"},\n 'ris': {'error': \"HTTPConnectionPool(host='127.0.0.1', port=5075): Max retries exceeded with url: /health (Caused by NewConnectionError('<urllib3.connection.HTTPConnection object at 0x7f57101fc460>: Failed to establish a new connection: [Errno 111] Connection refused'))\"},\n 'asa': {'error': \"HTTPConnectionPool(host='127.0.0.1', port=5090): Max retries exceeded with url: /health (Caused by NewConnectionError('<urllib3.connection.HTTPConnection object at 0x7f57101fcc10>: Failed to establish a new connection: [Errno 111] Connection refused'))\"},\n 'carp': {'status': 'OK'},\n 'codet5': {'error': 'Expecting value: line 1 column 1 (char 0)'},\n 'weaviate_database': True}"
     },
     "execution_count": 6,
     "metadata": {},
     "output_type": "execute_result"
    }
   ],
   "source": [
    "dyn.health()"
   ],
   "metadata": {
    "collapsed": false
   }
  },
  {
   "cell_type": "code",
   "execution_count": null,
   "outputs": [],
   "source": [
    "from resources.database_manager import DatabaseManager\n",
    "db = DatabaseManager()\n",
    "db.promptSchemaRetrieval(\"aci-classifier\")[\"schema\"]"
   ],
   "metadata": {
    "collapsed": false
   }
  },
  {
   "cell_type": "code",
   "execution_count": null,
   "outputs": [],
   "source": [
    "import requests\n",
    "print(requests.post(\"http://192.168.1.123:6000/help\").json()[\"message\"])"
   ],
   "metadata": {
    "collapsed": false
   }
  },
  {
   "cell_type": "code",
   "execution_count": null,
   "outputs": [],
   "source": [],
   "metadata": {
    "collapsed": false
   }
  }
 ],
 "metadata": {
  "kernelspec": {
   "display_name": "Python 3",
   "language": "python",
   "name": "python3"
  },
  "language_info": {
   "codemirror_mode": {
    "name": "ipython",
    "version": 2
   },
   "file_extension": ".py",
   "mimetype": "text/x-python",
   "name": "python",
   "nbconvert_exporter": "python",
   "pygments_lexer": "ipython2",
   "version": "2.7.6"
  }
 },
 "nbformat": 4,
 "nbformat_minor": 0
}
