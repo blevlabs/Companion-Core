{
 "cells": [
  {
   "cell_type": "markdown",
   "source": [
    "## Weaviate Server"
   ],
   "metadata": {
    "collapsed": false
   }
  },
  {
   "cell_type": "code",
   "execution_count": 1,
   "outputs": [
    {
     "data": {
      "text/plain": "True"
     },
     "execution_count": 1,
     "metadata": {},
     "output_type": "execute_result"
    }
   ],
   "source": [
    "import weaviate\n",
    "import requests\n",
    "weave_server = \"http://192.168.1.110:8080\"\n",
    "weaviate_client = weaviate.Client(weave_server)\n",
    "weaviate_client.is_ready()\n",
    "weaviate_client.is_live()"
   ],
   "metadata": {
    "collapsed": false
   }
  },
  {
   "cell_type": "markdown",
   "source": [
    "## Carptriever Server"
   ],
   "metadata": {
    "collapsed": false
   }
  },
  {
   "cell_type": "code",
   "execution_count": 2,
   "outputs": [
    {
     "data": {
      "text/plain": "{'response': {'results': [['The capital of France is Paris.',\n    1.337802767753601],\n   ['one plus one is two', 0.591904878616333]]}}"
     },
     "execution_count": 2,
     "metadata": {},
     "output_type": "execute_result"
    }
   ],
   "source": [
    "carp = \"http://192.168.1.110:5000/ccarp\"\n",
    "requests.post(carp,json={\"query\":\"What is the capital of France?\",\"documents\":[\"The capital of France is Paris.\",\"one plus one is two\"]}).json()"
   ],
   "metadata": {
    "collapsed": false
   }
  },
  {
   "cell_type": "markdown",
   "source": [
    "## CodeT5 Server"
   ],
   "metadata": {
    "collapsed": false
   }
  },
  {
   "cell_type": "code",
   "execution_count": 3,
   "outputs": [
    {
     "name": "stdout",
     "output_type": "stream",
     "text": [
      "a = int(input(\"Enter first number: \"))\n",
      "b = int(input(\"Enter second number: \"))\n",
      "print(a + b)\n",
      "----\n",
      "Output:\n",
      "226\n"
     ]
    }
   ],
   "source": [
    "codet5 = \"http://192.168.1.110:5090/codet5\"\n",
    "code = requests.post(codet5,json={\"code\":\"#make a script that adds two numbers\"}).json()[\"codet5-response\"][0][\"generated_text\"].replace(\"\\n\\n\",\"\\n\").strip(\"\\n\")\n",
    "print(code)\n",
    "print(\"----\")\n",
    "print(\"Output:\")\n",
    "exec(code)"
   ],
   "metadata": {
    "collapsed": false
   }
  },
  {
   "cell_type": "markdown",
   "source": [
    "# Companion Core Systems Testing"
   ],
   "metadata": {
    "collapsed": false
   }
  },
  {
   "cell_type": "code",
   "execution_count": null,
   "outputs": [],
   "source": [
    "from dynamic_library import dynamic\n",
    "dyn = dynamic()"
   ],
   "metadata": {
    "collapsed": false
   }
  },
  {
   "cell_type": "code",
   "execution_count": null,
   "outputs": [],
   "source": [
    "dyn.health()"
   ],
   "metadata": {
    "collapsed": false
   }
  },
  {
   "cell_type": "code",
   "execution_count": null,
   "outputs": [],
   "source": [
    "dyn.audio_request()"
   ],
   "metadata": {
    "collapsed": false
   }
  },
  {
   "cell_type": "code",
   "execution_count": null,
   "outputs": [],
   "source": [
    "from resources.audio_manager import textGen, speak_to_user\n",
    "textGen(\"Hello, how are you?\")\n",
    "speak_to_user()"
   ],
   "metadata": {
    "collapsed": false
   }
  },
  {
   "cell_type": "code",
   "execution_count": null,
   "outputs": [],
   "source": [
    "from aci import ACI\n",
    "aci = ACI()"
   ],
   "metadata": {
    "collapsed": false
   }
  },
  {
   "cell_type": "code",
   "execution_count": null,
   "outputs": [],
   "source": [
    "aci.generate_speech(\"I am the Companion Core, a robotic assistant created by Brayden\")\n",
    "aci.run_speech()"
   ],
   "metadata": {
    "collapsed": false
   }
  }
 ],
 "metadata": {
  "kernelspec": {
   "display_name": "Python 3",
   "language": "python",
   "name": "python3"
  },
  "language_info": {
   "codemirror_mode": {
    "name": "ipython",
    "version": 2
   },
   "file_extension": ".py",
   "mimetype": "text/x-python",
   "name": "python",
   "nbconvert_exporter": "python",
   "pygments_lexer": "ipython2",
   "version": "2.7.6"
  }
 },
 "nbformat": 4,
 "nbformat_minor": 0
}
