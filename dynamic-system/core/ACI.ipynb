{
 "cells": [
  {
   "cell_type": "code",
   "execution_count": null,
   "outputs": [],
   "source": [
    "from aci import ACI\n",
    "aci = ACI()"
   ],
   "metadata": {
    "collapsed": false
   }
  },
  {
   "cell_type": "code",
   "execution_count": null,
   "outputs": [],
   "source": [
    "info_mem = \"Speaker 2: Remember our apple picking trip last thursday?\"\n",
    "no_resp = \"Speaker 6: Hey whats my dude\\nSpeaker 2: Not much man, wbu\"\n",
    "info_search = \"Speaker 1: its pretty chilly, whats the weather?\"\n",
    "int_fix = \"Speaker 3: Your voice sounds glitchy, its scaring me\"\n",
    "none = \"No Speaker Dialogue\"\n",
    "# chats = \"Speaker 1: How are you today?\"\n",
    "testing = [info_mem,no_resp,info_search,int_fix,none]\n",
    "twoshot=\"Classify the following dialogue based on the provided examples. Classify multiple classes if necessary based on the provided dialogue sequence. This is a dialogue classifier for a social robot (named Companion Core) interacting with the speakers\\nClass Name: INFO-SEARCH\\nDescription: This is a classification based on if external information must be gathered from online or other nonlocal sources. This will typically include queries for extraneous or factual information from the speakers\\nClass Name: INFO-MEMORY\\nDescription: This is a classification based on if information relating to a character or logged interaction must be reviewed and/or utilized during conversational interaction.\\nClass Name: CHAT-RESP - This is a classification if the dialogue requires a response, or if an active conversation needs to be responded to with factual information.\\nClass Name: NO-RESPONSE - This is a classification if the speakers are speaking to each other, and that the dialogue needs no response.\\nClass Name: INTERNAL-FIX - This is a classification for the internal mechanics for mentions of the companion core’s actual functionality, and requests to change its memory, code, functionalities, and commands to shut off certain features of itself. This allows the users to request internal features to be added, shut down, or modified in any way. This also is classified if the user mentions the companion core is malfunctioning or bugging out in any way\\nClass Name: NONE - This is a classification if nothing is occurring, or no dialogue is being spoken, and therefore no actions need to be taken.\\n\\nSpeaker 1: How are you today?\\n\\nBased on the speaker dialogue above, what class do the speakers best relate to?: CHAT-RESP\\n\\nSpeaker 1: Hey what's up\\nSpeaker 3: Not much\\n\\nBased on the speaker dialogue above, what class do the speakers best relate to?: NO-RESPONSE\\n\\n{classifier_context}\\n\\nBased on the speaker dialogue above, what class do the speakers best relate to?:\"\n",
    "for item in testing:\n",
    "    promptNew = twoshot.format(classifier_context=item)\n",
    "    result = aci.generate(promptNew)[0][\"generated_text\"]\n",
    "    print(repr(item),\"=\",result)\n",
    "    print()"
   ],
   "metadata": {
    "collapsed": false
   }
  },
  {
   "cell_type": "code",
   "execution_count": null,
   "outputs": [],
   "source": [
    "from resources.database_manager import DatabaseManager\n",
    "database = DatabaseManager()"
   ],
   "metadata": {
    "collapsed": false
   }
  },
  {
   "cell_type": "code",
   "execution_count": null,
   "outputs": [],
   "source": [
    "database.promptSchemaUploader(schema=twoshot,requiredVars=[\"classifier_context\"])"
   ],
   "metadata": {
    "collapsed": false
   }
  },
  {
   "cell_type": "code",
   "execution_count": null,
   "outputs": [],
   "source": [
    "data = database.promptSchemaRetrieval(\"flan_classifier\")"
   ],
   "metadata": {
    "collapsed": false
   }
  },
  {
   "cell_type": "code",
   "execution_count": null,
   "outputs": [],
   "source": [
    "database.promptSchemaUpdate(schema_id=data[\"uuid\"],schema=twoshot,requiredVars=[\"classifier_context\"])"
   ],
   "metadata": {
    "collapsed": false
   }
  },
  {
   "cell_type": "code",
   "execution_count": null,
   "outputs": [],
   "source": [
    "info_mem = \"Speaker 2: Remember our apple picking trip last thursday?\"\n",
    "no_resp = \"Speaker 6: Hey whats my dude\\nSpeaker 2: Not much man, wbu\"\n",
    "info_search = \"Speaker 1: its pretty chilly, whats the weather?\"\n",
    "int_fix = \"Speaker 3: Your voice sounds glitchy, its scaring me\"\n",
    "none = \"No Speaker Dialogue\"\n",
    "# chats = \"Speaker 1: How are you today?\"\n",
    "testing = [info_mem,no_resp,info_search,int_fix,none]\n",
    "prompt=\"Classify the following dialogue based on the provided examples. Classify multiple classes if necessary based on the provided dialogue sequence. This is a dialogue classifier for a social robot (named Companion Core) interacting with the speakers\\nClass Name: INFO-SEARCH\\nDescription: This is a classification based on if external information must be gathered from online or other nonlocal sources. This will typically include queries for extraneous or factual information from the speakers\\nClass Name: INFO-MEMORY\\nDescription: This is a classification based on if information relating to a character or logged interaction must be reviewed and/or utilized during conversational interaction.\\nClass Name: CHAT-RESP - This is a classification if the dialogue requires a response, or if an active conversation needs to be responded to with factual information.\\nClass Name: NO-RESPONSE - This is a classification if the speakers are speaking to each other, and that the dialogue needs no response.\\nClass Name: INTERNAL-FIX - This is a classification for the internal mechanics for mentions of the companion core’s actual functionality, and requests to change its memory, code, functionalities, and commands to shut off certain features of itself. This allows the users to request internal features to be added, shut down, or modified in any way. This also is classified if the user mentions the companion core is malfunctioning or bugging out in any way\\nClass Name: NONE - This is a classification if nothing is occurring, or no dialogue is being spoken, and therefore no actions need to be taken.\\n\\n{classifier_context}\\n\\nBased on the speaker dialogue above, what class do the speakers best relate to?:\"\n",
    "for item in testing:\n",
    "    promptNew = prompt.format(classifier_context=item)\n",
    "    result = aci.generate(promptNew)[0][\"generated_text\"]\n",
    "    print(repr(item),\"=\",result)"
   ],
   "metadata": {
    "collapsed": false
   }
  },
  {
   "cell_type": "code",
   "execution_count": null,
   "outputs": [],
   "source": [
    "prompts = [\"codexfix\",\"breakdown\",\"analysis\",\"codegen\",\"flan_classifier\"]\n",
    "promptData = {}"
   ],
   "metadata": {
    "collapsed": false
   }
  }
 ],
 "metadata": {
  "kernelspec": {
   "display_name": "Python 3",
   "language": "python",
   "name": "python3"
  },
  "language_info": {
   "codemirror_mode": {
    "name": "ipython",
    "version": 2
   },
   "file_extension": ".py",
   "mimetype": "text/x-python",
   "name": "python",
   "nbconvert_exporter": "python",
   "pygments_lexer": "ipython2",
   "version": "2.7.6"
  }
 },
 "nbformat": 4,
 "nbformat_minor": 0
}
