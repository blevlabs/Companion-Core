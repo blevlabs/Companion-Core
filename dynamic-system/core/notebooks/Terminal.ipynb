{
 "cells": [
  {
   "cell_type": "markdown",
   "source": [
    "## Weaviate Server"
   ],
   "metadata": {
    "collapsed": false
   }
  },
  {
   "cell_type": "code",
   "execution_count": null,
   "outputs": [],
   "source": [
    "import weaviate\n",
    "import requests\n",
    "weave_server = \"http://192.168.1.110:8080\"\n",
    "weaviate_client = weaviate.Client(weave_server)\n",
    "weaviate_client.is_ready()\n",
    "weaviate_client.is_live()"
   ],
   "metadata": {
    "collapsed": false
   }
  },
  {
   "cell_type": "markdown",
   "source": [
    "## Carptriever Server"
   ],
   "metadata": {
    "collapsed": false
   }
  },
  {
   "cell_type": "code",
   "execution_count": null,
   "outputs": [],
   "source": [
    "carp = \"http://192.168.1.110:5000/ccarp\"\n",
    "requests.post(carp,json={\"query\":\"What is the capital of France?\",\"documents\":[\"The capital of France is Paris.\",\"one plus one is two\"]}).json()"
   ],
   "metadata": {
    "collapsed": false
   }
  },
  {
   "cell_type": "markdown",
   "source": [
    "## CodeT5 Server"
   ],
   "metadata": {
    "collapsed": false
   }
  },
  {
   "cell_type": "code",
   "execution_count": null,
   "outputs": [],
   "source": [
    "codet5 = \"http://192.168.1.110:5090/codet5\"\n",
    "code = requests.post(codet5,json={\"code\":\"#make a flask server to handle POST requests\"}).json()[\"codet5-response\"][0][\"generated_text\"].replace(\"\\n\\n\",\"\\n\").strip(\"\\n\")\n",
    "print(code)\n",
    "print(\"----\")\n",
    "# print(\"Output:\")\n",
    "# exec(code)"
   ],
   "metadata": {
    "collapsed": false
   }
  },
  {
   "cell_type": "markdown",
   "source": [
    "# Companion Core Systems Testing"
   ],
   "metadata": {
    "collapsed": false
   }
  },
  {
   "cell_type": "code",
   "execution_count": null,
   "outputs": [],
   "source": [
    "from dynamic_library import dynamic\n",
    "dyn = dynamic()"
   ],
   "metadata": {
    "collapsed": false
   }
  },
  {
   "cell_type": "code",
   "execution_count": null,
   "outputs": [],
   "source": [
    "dyn.health()"
   ],
   "metadata": {
    "collapsed": false
   }
  },
  {
   "cell_type": "code",
   "execution_count": 8,
   "outputs": [],
   "source": [
    "import sys\n",
    "sys.path.append(\"/home/blabs/Companion-Core/dynamic-system/core/resources/\")\n",
    "\n",
    "from database_manager import DatabaseManager\n",
    "db = DatabaseManager()\n",
    "schema = db.promptSchemaRetrieval(\"analysis\")[\"schema\"]"
   ],
   "metadata": {
    "collapsed": false
   }
  }
 ],
 "metadata": {
  "kernelspec": {
   "display_name": "Python 3",
   "language": "python",
   "name": "python3"
  },
  "language_info": {
   "codemirror_mode": {
    "name": "ipython",
    "version": 2
   },
   "file_extension": ".py",
   "mimetype": "text/x-python",
   "name": "python",
   "nbconvert_exporter": "python",
   "pygments_lexer": "ipython2",
   "version": "2.7.6"
  }
 },
 "nbformat": 4,
 "nbformat_minor": 0
}
