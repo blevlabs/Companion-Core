{
 "cells": [
  {
   "cell_type": "code",
   "execution_count": null,
   "metadata": {
    "collapsed": false
   },
   "outputs": [],
   "source": [
    "from aci import ACI\n",
    "aci = ACI()"
   ]
  },
  {
   "cell_type": "code",
   "execution_count": 26,
   "outputs": [],
   "source": [
    "file_data = open(\"/home/blabs/Companion-Core/dynamic-system/core/demos/ACI_DEMO.py\", \"r\").read()\n",
    "error_line = 50\n",
    "# filedta[error_line - 5:error_line+5]"
   ],
   "metadata": {
    "collapsed": false
   }
  },
  {
   "cell_type": "code",
   "execution_count": 27,
   "outputs": [
    {
     "name": "stdout",
     "output_type": "stream",
     "text": [
      "['import tkinter as tk', 'import sys', 'import random', '', 'random_user_id = random.randint(1, 6)', 'print(\"ASSIGNED USER ID: \" + str(random_user_id))', \"sys.path.insert(0, '/home/blabs/Companion-Core/dynamic-system/core')\", 'from aci import ACI', '', 'aci_instance = ACI()', '', '', 'def on_submit():', '    message = user_input.get()', '    if message == \"quit\":', '        root.destroy()', '    try:', '        assert message != \"\", \"You must enter a message.\"', '    except AssertionError as e:', '        print(e)', '        return', '    message = f\"Speaker {random_user_id}: \" + message', '    message = message.strip()', '    name = name_entry.get()', '    observer_data = {\"names\": [name]}', '    response = aci_instance.prompt_generation(message, observer_data)', '    print(response[\"timestamps\"])', \"    chat_log.configure(state='normal')\", '    chat_log.insert(tk.END, name + \": \" + message + \"\\\\n\")', '    chat_log.insert(tk.END, \"Companion Core: \" + response[\"companionResponse\"] + \"\\\\n\")', \"    chat_log.configure(state='disabled')\", '    user_input.delete(0, tk.END)', '    aci_instance.generate_speech(response[\"companionResponse\"])', '    aci_instance.run_speech()', '', '', 'root = tk.Tk()', 'root.title(\"Chat Interface\")', '', 'name_label = tk.Label(root, text=\"What is your name? \")', 'name_label.pack()', '', 'name_entry = tk.Entry(root)', 'name_entry.pack()', '', \"chat_log = tk.Text(root, state='disabled')\", 'chat_log.pack()', '', 'user_input = tk.Entry(root)', 'user_input.pack()', '', 'submit_button = tk.Button(root, text=\"Submit\", command=on_submit)', 'submit_button.pack()', '', 'root.mainloop()', '']\n"
     ]
    }
   ],
   "source": [
    "error_line = int(error_line)\n",
    "# replace literal newlines with a placeholder\n",
    "# extract code window with edgecases (check if it is the first or last line)\n",
    "context_window_data = file_data.split(\"\\n\")\n",
    "print(context_window_data)\n",
    "# extract all nearby lines while ensuring to not go over the total amount of lines in the file\n",
    "context_window = \"\\n\".join(context_window_data[max(0, error_line - 5):min(len(context_window_data), error_line + 5)])"
   ],
   "metadata": {
    "collapsed": false
   }
  },
  {
   "cell_type": "code",
   "execution_count": 28,
   "outputs": [],
   "source": [
    "context_window = \"\\n\".join(context_window_data[max(0, error_line - 5):min(len(context_window_data), error_line + 5)])"
   ],
   "metadata": {
    "collapsed": false
   }
  },
  {
   "cell_type": "code",
   "execution_count": 29,
   "outputs": [
    {
     "name": "stdout",
     "output_type": "stream",
     "text": [
      "chat_log = tk.Text(root, state='disabled')\n",
      "chat_log.pack()\n",
      "\n",
      "user_input = tk.Entry(root)\n",
      "user_input.pack()\n",
      "\n",
      "submit_button = tk.Button(root, text=\"Submit\", command=on_submit)\n",
      "submit_button.pack()\n",
      "\n",
      "root.mainloop()\n"
     ]
    }
   ],
   "source": [
    "print(context_window)"
   ],
   "metadata": {
    "collapsed": false
   }
  },
  {
   "cell_type": "code",
   "execution_count": null,
   "metadata": {
    "collapsed": false
   },
   "outputs": [],
   "source": [
    "info_mem = \"Speaker 2: Remember our apple picking trip last thursday?\"\n",
    "no_resp = \"Speaker 6: Hey whats my dude\\nSpeaker 2: Not much man, wbu\"\n",
    "info_search = \"Speaker 1: its pretty chilly, whats the weather?\"\n",
    "int_fix = \"Speaker 3: Your voice sounds glitchy, its scaring me\"\n",
    "none = \"No Speaker Dialogue\"\n",
    "# chats = \"Speaker 1: How are you today?\"\n",
    "testing = [info_mem,no_resp,info_search,int_fix,none]\n",
    "twoshot=\"Classify the following dialogue based on the provided examples. Classify multiple classes if necessary based on the provided dialogue sequence. This is a dialogue classifier for a social robot (named Companion Core) interacting with the speakers\\nClass Name: INFO-SEARCH\\nDescription: This is a classification based on if external information must be gathered from online or other nonlocal sources. This will typically include queries for extraneous or factual information from the speakers\\nClass Name: INFO-MEMORY\\nDescription: This is a classification based on if information relating to a character or logged interaction must be reviewed and/or utilized during conversational interaction.\\nClass Name: CHAT-RESP - This is a classification if the dialogue requires a response, or if an active conversation needs to be responded to with factual information.\\nClass Name: NO-RESPONSE - This is a classification if the speakers are speaking to each other, and that the dialogue needs no response.\\nClass Name: INTERNAL-FIX - This is a classification for the internal mechanics for mentions of the companion core’s actual functionality, and requests to change its memory, code, functionalities, and commands to shut off certain features of itself. This allows the users to request internal features to be added, shut down, or modified in any way. This also is classified if the user mentions the companion core is malfunctioning or bugging out in any way\\nClass Name: NONE - This is a classification if nothing is occurring, or no dialogue is being spoken, and therefore no actions need to be taken.\\n\\nSpeaker 1: How are you today?\\n\\nBased on the speaker dialogue above, what class do the speakers best relate to?: CHAT-RESP\\n\\nSpeaker 1: Hey what's up\\nSpeaker 3: Not much\\n\\nBased on the speaker dialogue above, what class do the speakers best relate to?: NO-RESPONSE\\n\\n{classifier_context}\\n\\nBased on the speaker dialogue above, what class do the speakers best relate to?:\"\n",
    "for item in testing:\n",
    "    promptNew = twoshot.format(classifier_context=item)\n",
    "    result = aci.generate(promptNew)[0][\"generated_text\"]\n",
    "    print(repr(item),\"=\",result)\n",
    "    print()"
   ]
  },
  {
   "cell_type": "code",
   "execution_count": null,
   "metadata": {
    "collapsed": false
   },
   "outputs": [],
   "source": [
    "from resources.database_manager import DatabaseManager\n",
    "database = DatabaseManager()"
   ]
  },
  {
   "cell_type": "code",
   "execution_count": null,
   "metadata": {
    "collapsed": false
   },
   "outputs": [],
   "source": [
    "database.promptSchemaUploader(schema=twoshot,requiredVars=[\"classifier_context\"])"
   ]
  },
  {
   "cell_type": "code",
   "execution_count": null,
   "metadata": {
    "collapsed": false
   },
   "outputs": [],
   "source": [
    "data = database.promptSchemaRetrieval(\"flan_classifier\")"
   ]
  },
  {
   "cell_type": "code",
   "execution_count": null,
   "metadata": {
    "collapsed": false
   },
   "outputs": [],
   "source": [
    "database.promptSchemaUpdate(schema_id=data[\"uuid\"],schema=twoshot,requiredVars=[\"classifier_context\"])"
   ]
  },
  {
   "cell_type": "code",
   "execution_count": null,
   "metadata": {
    "collapsed": false
   },
   "outputs": [],
   "source": [
    "info_mem = \"Speaker 2: Remember our apple picking trip last thursday?\"\n",
    "no_resp = \"Speaker 6: Hey whats my dude\\nSpeaker 2: Not much man, wbu\"\n",
    "info_search = \"Speaker 1: its pretty chilly, whats the weather?\"\n",
    "int_fix = \"Speaker 3: Your voice sounds glitchy, its scaring me\"\n",
    "none = \"No Speaker Dialogue\"\n",
    "# chats = \"Speaker 1: How are you today?\"\n",
    "testing = [info_mem,no_resp,info_search,int_fix,none]\n",
    "prompt=\"Classify the following dialogue based on the provided examples. Classify multiple classes if necessary based on the provided dialogue sequence. This is a dialogue classifier for a social robot (named Companion Core) interacting with the speakers\\nClass Name: INFO-SEARCH\\nDescription: This is a classification based on if external information must be gathered from online or other nonlocal sources. This will typically include queries for extraneous or factual information from the speakers\\nClass Name: INFO-MEMORY\\nDescription: This is a classification based on if information relating to a character or logged interaction must be reviewed and/or utilized during conversational interaction.\\nClass Name: CHAT-RESP - This is a classification if the dialogue requires a response, or if an active conversation needs to be responded to with factual information.\\nClass Name: NO-RESPONSE - This is a classification if the speakers are speaking to each other, and that the dialogue needs no response.\\nClass Name: INTERNAL-FIX - This is a classification for the internal mechanics for mentions of the companion core’s actual functionality, and requests to change its memory, code, functionalities, and commands to shut off certain features of itself. This allows the users to request internal features to be added, shut down, or modified in any way. This also is classified if the user mentions the companion core is malfunctioning or bugging out in any way\\nClass Name: NONE - This is a classification if nothing is occurring, or no dialogue is being spoken, and therefore no actions need to be taken.\\n\\n{classifier_context}\\n\\nBased on the speaker dialogue above, what class do the speakers best relate to?:\"\n",
    "for item in testing:\n",
    "    promptNew = prompt.format(classifier_context=item)\n",
    "    result = aci.generate(promptNew)[0][\"generated_text\"]\n",
    "    print(repr(item),\"=\",result)"
   ]
  },
  {
   "cell_type": "code",
   "execution_count": null,
   "metadata": {
    "collapsed": false
   },
   "outputs": [],
   "source": [
    "prompts = [\"codexfix\",\"breakdown\",\"analysis\",\"codegen\",\"flan_classifier\"]\n",
    "promptData = {}"
   ]
  }
 ],
 "metadata": {
  "kernelspec": {
   "display_name": "companioncore",
   "language": "python",
   "name": "python3"
  },
  "language_info": {
   "codemirror_mode": {
    "name": "ipython",
    "version": 2
   },
   "file_extension": ".py",
   "mimetype": "text/x-python",
   "name": "python",
   "nbconvert_exporter": "python",
   "pygments_lexer": "ipython2",
   "version": "3.9.12 (main, Jun  1 2022, 11:38:51) \n[GCC 7.5.0]"
  },
  "vscode": {
   "interpreter": {
    "hash": "4fb834bb679fc9e93860197e105125738f0d8baf6dda344173c5cc75f247e423"
   }
  }
 },
 "nbformat": 4,
 "nbformat_minor": 0
}
